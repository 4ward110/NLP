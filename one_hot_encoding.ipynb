{
 "cells": [
  {
   "cell_type": "code",
   "execution_count": 3,
   "id": "1d0306dc",
   "metadata": {},
   "outputs": [
    {
     "name": "stdout",
     "output_type": "stream",
     "text": [
      "Class of words:  ['buu' 'chinh' 'cong' 'hoc' 'nghe' 'thong' 'vien']\n"
     ]
    }
   ],
   "source": [
    "from sklearn.preprocessing import LabelEncoder\n",
    "le = LabelEncoder()\n",
    "words = ['hoc', 'vien', 'cong','nghe','buu','chinh','vien','thong']\n",
    "le.fit(words) # fit bo du lieu label voi data dua vao\n",
    "print(\"Class of words: \", le.classes_) # dua ra cac class co trong word"
   ]
  },
  {
   "cell_type": "code",
   "execution_count": 4,
   "id": "1b5f8e2a",
   "metadata": {},
   "outputs": [
    {
     "name": "stdout",
     "output_type": "stream",
     "text": [
      "convert to num: [3 6 2 4 0 1 6 5]\n"
     ]
    }
   ],
   "source": [
    "x = le.transform(words) # in ra thu tu cua cac tu theo thu tu tu dien vua tao\n",
    "print(\"convert to num:\", x)"
   ]
  },
  {
   "cell_type": "code",
   "execution_count": 12,
   "id": "bc890a61",
   "metadata": {},
   "outputs": [
    {
     "name": "stdout",
     "output_type": "stream",
     "text": [
      "Invert into classes ['hoc' 'vien' 'cong' 'nghe' 'buu' 'chinh' 'vien' 'thong']\n"
     ]
    }
   ],
   "source": [
    "z = [3, 2, 0, 1]\n",
    "print(\"Invert into classes\", le.inverse_transform(x))"
   ]
  },
  {
   "cell_type": "code",
   "execution_count": 22,
   "id": "59b19edd",
   "metadata": {},
   "outputs": [
    {
     "name": "stdout",
     "output_type": "stream",
     "text": [
      "element:  ['buu' 'chinh' 'cong' 'hoc' 'nghe' 'thong' 'vien']\n",
      "index:  [0 1 2 3 4 5 6]\n",
      "Classes_indicies:  [('buu', 0), ('chinh', 1), ('cong', 2), ('hoc', 3), ('nghe', 4), ('thong', 5), ('vien', 6)]\n"
     ]
    }
   ],
   "source": [
    "from sklearn.preprocessing import OneHotEncoder\n",
    "import numpy as np\n",
    "oh = OneHotEncoder()\n",
    "print(\"element: \", le.classes_)\n",
    "print(\"index: \", np.arange(len(le.classes_)))\n",
    "classes_indices = list(zip(le.classes_, np.arange(len(le.classes_))))\n",
    "print(\"Classes_indicies: \", classes_indices)\n"
   ]
  },
  {
   "cell_type": "code",
   "execution_count": 36,
   "id": "a83fa078",
   "metadata": {},
   "outputs": [
    {
     "name": "stdout",
     "output_type": "stream",
     "text": [
      "One-hot categories and indices: \n",
      " [array(['buu', 'chinh', 'cong', 'hoc', 'nghe', 'thong', 'vien'],\n",
      "      dtype=object), array([0, 1, 2, 3, 4, 5, 6], dtype=object)]\n",
      "Words_indices: \n",
      " [('hoc', 3), ('vien', 6), ('cong', 2), ('nghe', 4), ('buu', 0), ('chinh', 1), ('vien', 6), ('thong', 5)]\n",
      "Transform words into one-hot matrix: \n",
      " [[0. 0. 0. 1. 0. 0. 0. 0. 0. 0. 1. 0. 0. 0.]\n",
      " [0. 0. 0. 0. 0. 0. 1. 0. 0. 0. 0. 0. 0. 1.]\n",
      " [0. 0. 1. 0. 0. 0. 0. 0. 0. 1. 0. 0. 0. 0.]\n",
      " [0. 0. 0. 0. 1. 0. 0. 0. 0. 0. 0. 1. 0. 0.]\n",
      " [1. 0. 0. 0. 0. 0. 0. 1. 0. 0. 0. 0. 0. 0.]\n",
      " [0. 1. 0. 0. 0. 0. 0. 0. 1. 0. 0. 0. 0. 0.]\n",
      " [0. 0. 0. 0. 0. 0. 1. 0. 0. 0. 0. 0. 0. 1.]\n",
      " [0. 0. 0. 0. 0. 1. 0. 0. 0. 0. 0. 0. 1. 0.]]\n"
     ]
    }
   ],
   "source": [
    "oh.fit(classes_indices)\n",
    "print(\"One-hot categories and indices: \\n\", oh.categories_)\n",
    "words_indices = list(zip(words,x))\n",
    "print(\"Words_indices: \\n\",words_indices) #mapping word va thu tu trong tu dien\n",
    "# transform to one_hot\n",
    "one_hot = oh.transform(words_indices).toarray()\n",
    "print(\"Transform words into one-hot matrix: \\n\", one_hot)"
   ]
  },
  {
   "cell_type": "code",
   "execution_count": 33,
   "id": "e31eb700",
   "metadata": {},
   "outputs": [
    {
     "name": "stdout",
     "output_type": "stream",
     "text": [
      "decode:  [['hoc' 3]\n",
      " ['vien' 6]\n",
      " ['cong' 2]\n",
      " ['nghe' 4]\n",
      " ['buu' 0]\n",
      " ['chinh' 1]\n",
      " ['vien' 6]\n",
      " ['thong' 5]]\n"
     ]
    }
   ],
   "source": [
    "print(\"decode: \", oh.inverse_transform(one_hot))"
   ]
  },
  {
   "cell_type": "code",
   "execution_count": null,
   "id": "94ea4826",
   "metadata": {},
   "outputs": [],
   "source": []
  }
 ],
 "metadata": {
  "kernelspec": {
   "display_name": "Python 3",
   "language": "python",
   "name": "python3"
  },
  "language_info": {
   "codemirror_mode": {
    "name": "ipython",
    "version": 3
   },
   "file_extension": ".py",
   "mimetype": "text/x-python",
   "name": "python",
   "nbconvert_exporter": "python",
   "pygments_lexer": "ipython3",
   "version": "3.8.8"
  }
 },
 "nbformat": 4,
 "nbformat_minor": 5
}
