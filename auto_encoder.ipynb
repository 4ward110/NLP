{
 "cells": [
  {
   "cell_type": "code",
   "execution_count": 6,
   "id": "34e08ec8",
   "metadata": {},
   "outputs": [
    {
     "name": "stdout",
     "output_type": "stream",
     "text": [
      "Model: \"sequential_1\"\n",
      "_________________________________________________________________\n",
      " Layer (type)                Output Shape              Param #   \n",
      "=================================================================\n",
      " dense_3 (Dense)             (None, 12)                156       \n",
      "                                                                 \n",
      " dense_4 (Dense)             (None, 8)                 104       \n",
      "                                                                 \n",
      " dense_5 (Dense)             (None, 12)                108       \n",
      "                                                                 \n",
      "=================================================================\n",
      "Total params: 368\n",
      "Trainable params: 368\n",
      "Non-trainable params: 0\n",
      "_________________________________________________________________\n",
      "Epoch 1/2\n",
      "2/2 [==============================] - 0s 2ms/step - loss: 2.2712 - accuracy: 0.1667\n",
      "Epoch 2/2\n",
      "2/2 [==============================] - 0s 2ms/step - loss: 2.2667 - accuracy: 0.0833\n"
     ]
    },
    {
     "data": {
      "text/plain": [
       "<keras.callbacks.History at 0x2c5ceb61fa0>"
      ]
     },
     "execution_count": 6,
     "metadata": {},
     "output_type": "execute_result"
    }
   ],
   "source": [
    "from keras.layers import Dense, Input\n",
    "from keras.models import Model, Sequential\n",
    "from tensorflow.keras.optimizers import Adam\n",
    "from tensorflow.keras.optimizers import RMSprop\n",
    "from scipy.sparse import coo_matrix\n",
    "\n",
    "row = [0, 0, 1, 2, 3, 4, 5, 6, 8, 9, 10]\n",
    "col = [1, 8, 2, 3, 4, 5, 6, 7, 9, 10, 11]\n",
    "data = [1, 1, 1, 1, 1, 1, 1, 1, 1, 1, 1]\n",
    "X = coo_matrix((data, (row, col)), shape=(12,12)).toarray()\n",
    "\n",
    "def autoencoder(input_unit, hidden_unit):\n",
    "    model = Sequential()\n",
    "    model.add(Dense(input_unit, input_shape = (12,), activation = 'relu'))\n",
    "    model.add(Dense(hidden_unit, activation = 'relu'))\n",
    "    model.add(Dense(input_unit, activation = 'softmax'))\n",
    "    model.compile(loss = 'categorical_crossentropy', optimizer = Adam(),\n",
    "                 metrics = ['accuracy'])\n",
    "    model.summary()\n",
    "    return model\n",
    "model_auto_encoder = autoencoder(input_unit = 12, hidden_unit = 8)\n",
    "model_auto_encoder.fit(X, X, epochs = 2, batch_size = 6)\n",
    "    "
   ]
  },
  {
   "cell_type": "code",
   "execution_count": 7,
   "id": "cbff6bda",
   "metadata": {},
   "outputs": [
    {
     "name": "stdout",
     "output_type": "stream",
     "text": [
      "Shape of embedding_matrix:  (8, 12)\n",
      "Embedding_matrix: \n",
      " [[ 0.41542646 -0.25990507  0.04757603  0.42162573 -0.23066324 -0.3485843\n",
      "   0.2857233  -0.47957337  0.31167382  0.47483072 -0.28769195 -0.24434789]\n",
      " [ 0.24344727 -0.5082308  -0.50088966 -0.09611391  0.11990543 -0.46352974\n",
      "   0.19672766  0.5070154  -0.40043858  0.02298314 -0.23253085  0.4802651 ]\n",
      " [ 0.1287261  -0.41856062 -0.26521593  0.32313487 -0.23779994 -0.45929492\n",
      "   0.26688942 -0.37403405 -0.1394011   0.29221195  0.13498434 -0.19284642]\n",
      " [-0.37150255 -0.00963658  0.11858651  0.36263454  0.4854266  -0.43369445\n",
      "  -0.32289317  0.07338779  0.3985679   0.54850197 -0.18649139 -0.09749963]\n",
      " [-0.32250473 -0.5063087  -0.2746867   0.01789463 -0.30212492 -0.2913085\n",
      "   0.09640176  0.43876854  0.39382017 -0.06057081  0.3057352  -0.4766542 ]\n",
      " [ 0.09546021 -0.21526691 -0.19706716  0.02400066  0.10147832 -0.12056761\n",
      "  -0.01722622  0.06941262 -0.3793423   0.38610664 -0.37127063 -0.12560004]\n",
      " [ 0.51925844 -0.10702959 -0.02676559  0.47285998  0.09880833 -0.53597295\n",
      "  -0.40585226  0.1034226  -0.3080713   0.33644804 -0.24477723 -0.11379535]\n",
      " [ 0.36604363 -0.15434898 -0.14697333 -0.07463808  0.2071464  -0.05426394\n",
      "  -0.173873   -0.13304193 -0.1718316  -0.13132377 -0.21423897  0.3798301 ]]\n"
     ]
    }
   ],
   "source": [
    "embedding_matrix = model_auto_encoder.layers[2].get_weights()[0]\n",
    "# bias = model_auto_encoder.layers[2].get_weights()[1]\n",
    "\n",
    "print('Shape of embedding_matrix: ', embedding_matrix.shape)\n",
    "print('Embedding_matrix: \\n', embedding_matrix)"
   ]
  },
  {
   "cell_type": "code",
   "execution_count": 10,
   "id": "42dfe50a",
   "metadata": {},
   "outputs": [
    {
     "data": {
      "text/plain": [
       "-0.39705598"
      ]
     },
     "execution_count": 10,
     "metadata": {},
     "output_type": "execute_result"
    }
   ],
   "source": [
    "from sklearn.metrics.pairwise import cosine_similarity\n",
    "import numpy as np\n",
    "from numpy.linalg import norm\n",
    "\n",
    "def cosine(x, y):\n",
    "    cos_sim = np.dot(x, y)/(norm(x)*norm(y))\n",
    "    return cos_sim\n",
    "# Véc tơ biểu diễn từ khoa học\n",
    "e0 = list(embedding_matrix[:, 9])\n",
    "# Véc tơ biểu diễn từ dữ liệu\n",
    "e1 = list(embedding_matrix[:, 11])\n",
    "# Quan hệ tương quan ngữ nghĩa giữa từ sinh viên và học viện\n",
    "cosine(e0, e1)"
   ]
  },
  {
   "cell_type": "code",
   "execution_count": null,
   "id": "b9d831fd",
   "metadata": {},
   "outputs": [],
   "source": []
  }
 ],
 "metadata": {
  "kernelspec": {
   "display_name": "Python 3",
   "language": "python",
   "name": "python3"
  },
  "language_info": {
   "codemirror_mode": {
    "name": "ipython",
    "version": 3
   },
   "file_extension": ".py",
   "mimetype": "text/x-python",
   "name": "python",
   "nbconvert_exporter": "python",
   "pygments_lexer": "ipython3",
   "version": "3.8.8"
  }
 },
 "nbformat": 4,
 "nbformat_minor": 5
}
