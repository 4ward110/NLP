{
 "cells": [
  {
   "cell_type": "code",
   "execution_count": 2,
   "id": "2a89003d",
   "metadata": {},
   "outputs": [],
   "source": [
    "import scipy.linalg as ln\n",
    "import numpy as np\n",
    "from underthesea import word_tokenize"
   ]
  },
  {
   "cell_type": "code",
   "execution_count": 13,
   "id": "931e374f",
   "metadata": {},
   "outputs": [
    {
     "name": "stdout",
     "output_type": "stream",
     "text": [
      "Tokenize:  ['Long', 'là', 'sinh viên', 'học viện', 'công nghệ', 'bưu chính', 'viễn thông', ',', 'Long', 'yêu thích', 'lập trình', 'và', 'nghiên cứu', 'công nghệ']\n"
     ]
    }
   ],
   "source": [
    "sentence = \"Long là sinh viên học viện công nghệ bưu chính viễn thông, Long yêu thích lập trình và nghiên cứu công nghệ\"\n",
    "token = word_tokenize(sentence)\n",
    "\n",
    "print(\"Tokenize: \", token)\n"
   ]
  },
  {
   "cell_type": "code",
   "execution_count": 16,
   "id": "e921b76d",
   "metadata": {},
   "outputs": [
    {
     "data": {
      "text/plain": [
       "array([[0, 1, 0, 0, 0, 0, 0, 0, 1, 0, 0, 0],\n",
       "       [0, 0, 1, 0, 0, 0, 0, 0, 0, 0, 0, 0],\n",
       "       [0, 0, 0, 1, 0, 0, 0, 0, 0, 0, 0, 0],\n",
       "       [0, 0, 0, 0, 1, 0, 0, 0, 0, 0, 0, 0],\n",
       "       [0, 0, 0, 0, 0, 1, 0, 0, 0, 0, 0, 0],\n",
       "       [0, 0, 0, 0, 0, 0, 1, 0, 0, 0, 0, 0],\n",
       "       [0, 0, 0, 0, 0, 0, 0, 1, 0, 0, 0, 0],\n",
       "       [0, 0, 0, 0, 0, 0, 0, 0, 0, 0, 0, 0],\n",
       "       [0, 0, 0, 0, 0, 0, 0, 0, 0, 1, 0, 0],\n",
       "       [0, 0, 0, 0, 0, 0, 0, 0, 0, 0, 1, 0],\n",
       "       [0, 0, 0, 0, 0, 0, 0, 0, 0, 0, 0, 1],\n",
       "       [0, 0, 0, 0, 0, 0, 0, 0, 0, 0, 0, 0]])"
      ]
     },
     "execution_count": 16,
     "metadata": {},
     "output_type": "execute_result"
    }
   ],
   "source": [
    "from scipy.sparse import coo_matrix\n",
    "row = [0, 0, 1, 2, 3, 4, 5, 6, 8, 9, 10]\n",
    "col = [1, 8, 2, 3, 4, 5, 6, 7, 9, 10, 11]\n",
    "data = [1, 1, 1, 1, 1, 1, 1, 1, 1, 1, 1]\n",
    "X = coo_matrix((data, (row, col)), shape=(12,12)).toarray()\n",
    "X"
   ]
  },
  {
   "cell_type": "code",
   "execution_count": 22,
   "id": "3dcd5548",
   "metadata": {},
   "outputs": [
    {
     "name": "stdout",
     "output_type": "stream",
     "text": [
      "Shape of U: \n",
      " [[1. 0. 0. 0. 0. 0. 0. 0. 0. 0. 0. 0.]\n",
      " [0. 0. 0. 0. 0. 0. 0. 0. 0. 1. 0. 0.]\n",
      " [0. 1. 0. 0. 0. 0. 0. 0. 0. 0. 0. 0.]\n",
      " [0. 0. 1. 0. 0. 0. 0. 0. 0. 0. 0. 0.]\n",
      " [0. 0. 0. 1. 0. 0. 0. 0. 0. 0. 0. 0.]\n",
      " [0. 0. 0. 0. 1. 0. 0. 0. 0. 0. 0. 0.]\n",
      " [0. 0. 0. 0. 0. 1. 0. 0. 0. 0. 0. 0.]\n",
      " [0. 0. 0. 0. 0. 0. 0. 0. 0. 0. 0. 1.]\n",
      " [0. 0. 0. 0. 0. 0. 0. 1. 0. 0. 0. 0.]\n",
      " [0. 0. 0. 0. 0. 0. 0. 0. 1. 0. 0. 0.]\n",
      " [0. 0. 0. 0. 0. 0. 1. 0. 0. 0. 0. 0.]\n",
      " [0. 0. 0. 0. 0. 0. 0. 0. 0. 0. 1. 0.]]\n",
      "Length of diagonal: \n",
      " [1.41421356 1.         1.         1.         1.         1.\n",
      " 1.         1.         1.         1.         0.         0.        ]\n",
      "Shape of V: \n",
      " [[-0.          0.70710678  0.          0.          0.          0.\n",
      "   0.          0.          0.70710678  0.          0.          0.        ]\n",
      " [ 0.          0.          0.          1.          0.          0.\n",
      "   0.          0.          0.          0.          0.          0.        ]\n",
      " [ 0.          0.          0.          0.          1.          0.\n",
      "   0.          0.          0.          0.          0.          0.        ]\n",
      " [ 0.          0.          0.          0.          0.          1.\n",
      "   0.          0.          0.          0.          0.          0.        ]\n",
      " [ 0.          0.          0.          0.          0.          0.\n",
      "   1.          0.          0.          0.          0.          0.        ]\n",
      " [ 0.          0.          0.          0.          0.          0.\n",
      "   0.          1.          0.          0.          0.          0.        ]\n",
      " [ 0.          0.          0.          0.          0.          0.\n",
      "   0.          0.          0.          0.          0.          1.        ]\n",
      " [ 0.          0.          0.          0.          0.          0.\n",
      "   0.          0.          0.          1.          0.          0.        ]\n",
      " [ 0.          0.          0.          0.          0.          0.\n",
      "   0.          0.          0.          0.          1.          0.        ]\n",
      " [ 0.          0.          1.          0.          0.          0.\n",
      "   0.          0.          0.          0.          0.          0.        ]\n",
      " [ 0.          0.70710678  0.          0.          0.          0.\n",
      "   0.          0.         -0.70710678  0.          0.          0.        ]\n",
      " [-1.          0.          0.          0.          0.          0.\n",
      "   0.          0.          0.          0.          0.          0.        ]]\n"
     ]
    }
   ],
   "source": [
    "U, S_diag, V = ln.svd(X)\n",
    "print('Shape of U: \\n', U) #ma tran truc giao suy bien trai\n",
    "print('Length of diagonal: \\n', S_diag) # ma tran duong cheo chinh sap xep theo thu tu giam dan\n",
    "print('Shape of V: \\n', V) # ma tran truc giap suy bien phai"
   ]
  },
  {
   "cell_type": "code",
   "execution_count": 30,
   "id": "85cf2d45",
   "metadata": {},
   "outputs": [
    {
     "name": "stdout",
     "output_type": "stream",
     "text": [
      "S truncate: \n",
      " [[1.41421356 0.         0.         0.         0.         0.\n",
      "  0.         0.         0.         0.         0.         0.        ]\n",
      " [0.         1.         0.         0.         0.         0.\n",
      "  0.         0.         0.         0.         0.         0.        ]\n",
      " [0.         0.         1.         0.         0.         0.\n",
      "  0.         0.         0.         0.         0.         0.        ]\n",
      " [0.         0.         0.         1.         0.         0.\n",
      "  0.         0.         0.         0.         0.         0.        ]\n",
      " [0.         0.         0.         0.         1.         0.\n",
      "  0.         0.         0.         0.         0.         0.        ]\n",
      " [0.         0.         0.         0.         0.         1.\n",
      "  0.         0.         0.         0.         0.         0.        ]\n",
      " [0.         0.         0.         0.         0.         0.\n",
      "  1.         0.         0.         0.         0.         0.        ]\n",
      " [0.         0.         0.         0.         0.         0.\n",
      "  0.         1.         0.         0.         0.         0.        ]]\n",
      "Word Embedding 6 demensionality: \n",
      " [[0. 1. 0. 0. 0. 0. 0. 0. 1. 0. 0. 0.]\n",
      " [0. 0. 0. 1. 0. 0. 0. 0. 0. 0. 0. 0.]\n",
      " [0. 0. 0. 0. 1. 0. 0. 0. 0. 0. 0. 0.]\n",
      " [0. 0. 0. 0. 0. 1. 0. 0. 0. 0. 0. 0.]\n",
      " [0. 0. 0. 0. 0. 0. 1. 0. 0. 0. 0. 0.]\n",
      " [0. 0. 0. 0. 0. 0. 0. 1. 0. 0. 0. 0.]\n",
      " [0. 0. 0. 0. 0. 0. 0. 0. 0. 0. 0. 1.]\n",
      " [0. 0. 0. 0. 0. 0. 0. 0. 0. 1. 0. 0.]]\n"
     ]
    }
   ],
   "source": [
    "import numpy as np\n",
    "S_truncate = np.zeros(shape = (8, 12))\n",
    "np.fill_diagonal(S_truncate, S_diag[:8]) #can bieu dien du lieu bao nhieu chieu => lay bay nhieu dong cua ma tran duong cheo chinh\n",
    "print(\"S truncate: \\n\", S_truncate) #de bieu dien sat nhat voi du lieu => chon cac dong tuong ung voi cac gia tri dac trung lop nhat\n",
    "print(\"Word Embedding 6 demensionality: \\n\", np.dot(S_truncate, V)) # cot cua ma tran la vector embedded cua tu tai vi tri tuong ung trong tu dien"
   ]
  },
  {
   "cell_type": "code",
   "execution_count": null,
   "id": "5ab83598",
   "metadata": {},
   "outputs": [],
   "source": []
  }
 ],
 "metadata": {
  "kernelspec": {
   "display_name": "Python 3",
   "language": "python",
   "name": "python3"
  },
  "language_info": {
   "codemirror_mode": {
    "name": "ipython",
    "version": 3
   },
   "file_extension": ".py",
   "mimetype": "text/x-python",
   "name": "python",
   "nbconvert_exporter": "python",
   "pygments_lexer": "ipython3",
   "version": "3.8.8"
  }
 },
 "nbformat": 4,
 "nbformat_minor": 5
}
